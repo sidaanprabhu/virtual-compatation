{
  "nbformat": 4,
  "nbformat_minor": 0,
  "metadata": {
    "colab": {
      "provenance": []
    },
    "kernelspec": {
      "name": "python3",
      "display_name": "Python 3"
    },
    "language_info": {
      "name": "python"
    }
  },
  "cells": [
    {
      "cell_type": "code",
      "source": [
        "'''1 Write a Python function to accept a string value from the user and display the\n",
        "count of each character in that string. Sample input: Enter a string value:\n",
        "assembly Sample output: a=1, s=2, e=1, m=1, b=1, l=1, y=1'''"
      ],
      "metadata": {
        "colab": {
          "base_uri": "https://localhost:8080/",
          "height": 53
        },
        "id": "Ucw4P7keIv7F",
        "outputId": "14e3b78f-e264-4ead-de08-022d08d7869e"
      },
      "execution_count": 2,
      "outputs": [
        {
          "output_type": "execute_result",
          "data": {
            "text/plain": [
              "'Write a Python function to accept a string value from the user and display the\\ncount of each character in that string. Sample input: Enter a string value:\\nassembly Sample output: a=1, s=2, e=1, m=1, b=1, l=1, y=1'"
            ],
            "application/vnd.google.colaboratory.intrinsic+json": {
              "type": "string"
            }
          },
          "metadata": {},
          "execution_count": 2
        }
      ]
    },
    {
      "cell_type": "code",
      "source": [
        "string = input(\"Enter a string: \")\n",
        "lst1 =['a','b','s','m','e','l']\n",
        "for char in string:\n",
        "  lst1.append(char)\n",
        "for item in lst1:\n",
        "    print(item,string.count(item), sep  = \",\")"
      ],
      "metadata": {
        "colab": {
          "base_uri": "https://localhost:8080/"
        },
        "id": "UiebHM85McRm",
        "outputId": "fe25cf0c-6fbc-408a-a4ef-71870984ebc0"
      },
      "execution_count": 26,
      "outputs": [
        {
          "output_type": "stream",
          "name": "stdout",
          "text": [
            "Enter a string: 3\n",
            "a,0\n",
            "b,0\n",
            "s,0\n",
            "m,0\n",
            "e,0\n",
            "l,0\n",
            "3,1\n"
          ]
        }
      ]
    },
    {
      "cell_type": "code",
      "source": [
        "'''2 Write a Python function to find the maximum of three numbers Sample input:\n",
        "34,12,7 Sample output: 34'''"
      ],
      "metadata": {
        "colab": {
          "base_uri": "https://localhost:8080/",
          "height": 35
        },
        "id": "N4VT9bBCOEai",
        "outputId": "9051d049-bb54-4f5a-8dc1-807d90ffbeb5"
      },
      "execution_count": 64,
      "outputs": [
        {
          "output_type": "execute_result",
          "data": {
            "text/plain": [
              "'2 Write a Python function to find the maximum of three numbers Sample input:\\n34,12,7 Sample output: 34'"
            ],
            "application/vnd.google.colaboratory.intrinsic+json": {
              "type": "string"
            }
          },
          "metadata": {},
          "execution_count": 64
        }
      ]
    },
    {
      "cell_type": "code",
      "source": [
        "def max_num(x,y,z):\n",
        "\n",
        "  if (x >=y) and (x >=z):\n",
        "    return x\n",
        "  elif (y>=x) and (y>=z):\n",
        "    return y\n",
        "  else:\n",
        "    return z\n"
      ],
      "metadata": {
        "id": "QfnsMJbiXEIL"
      },
      "execution_count": 67,
      "outputs": []
    },
    {
      "cell_type": "code",
      "source": [
        "x=34\n",
        "y=12\n",
        "z=7\n",
        "print(max_num(x,y,z))"
      ],
      "metadata": {
        "colab": {
          "base_uri": "https://localhost:8080/"
        },
        "id": "a5NsikS7ia5M",
        "outputId": "5739f70b-057c-4df0-a9bc-b62b907375d4"
      },
      "execution_count": 68,
      "outputs": [
        {
          "output_type": "stream",
          "name": "stdout",
          "text": [
            "34\n"
          ]
        }
      ]
    },
    {
      "cell_type": "code",
      "source": [
        "'''5 Write a Python program which iterates from 1 to 10. For multiples of 2, print\n",
        "“Fizz” instead of the number and for the multiples of 5, print “Buzz”. For\n",
        "numbers which are multiples of both 2 and 5, print “FizzBuzz”. Sample input:\n",
        "numbers from 1 to 10 Sample output: 1 Fizz 3 Fizz Buzz Fizz 7 Fizz 9\n",
        "FizzBuzz'''"
      ],
      "metadata": {
        "colab": {
          "base_uri": "https://localhost:8080/",
          "height": 53
        },
        "id": "GBWraKcfayxQ",
        "outputId": "61eb460b-2304-44d4-a104-19de932ca9a0"
      },
      "execution_count": 51,
      "outputs": [
        {
          "output_type": "execute_result",
          "data": {
            "text/plain": [
              "'Write a Python program which iterates from 1 to 10. For multiples of 2, print\\n“Fizz” instead of the number and for the multiples of 5, print “Buzz”. For\\nnumbers which are multiples of both 2 and 5, print “FizzBuzz”. Sample input:\\nnumbers from 1 to 10 Sample output: 1 Fizz 3 Fizz Buzz Fizz 7 Fizz 9\\nFizzBuzz'"
            ],
            "application/vnd.google.colaboratory.intrinsic+json": {
              "type": "string"
            }
          },
          "metadata": {},
          "execution_count": 51
        }
      ]
    },
    {
      "cell_type": "code",
      "source": [
        "for i in range(1, 11):\n",
        "    if i % 2 == 0 and i % 5 == 0:\n",
        "        print(\"FizzBuzz\")\n",
        "    elif i % 2 == 0:\n",
        "        print(\"Fizz\")\n",
        "    elif i % 5 == 0:\n",
        "        print(\"Buzz\")\n",
        "    else:\n",
        "        print(i)"
      ],
      "metadata": {
        "colab": {
          "base_uri": "https://localhost:8080/"
        },
        "id": "swJsILTXbUHq",
        "outputId": "ae270514-8983-43a0-bd56-2770520de453"
      },
      "execution_count": 57,
      "outputs": [
        {
          "output_type": "stream",
          "name": "stdout",
          "text": [
            "1\n",
            "Fizz\n",
            "3\n",
            "Fizz\n",
            "Buzz\n",
            "Fizz\n",
            "7\n",
            "Fizz\n",
            "9\n",
            "FizzBuzz\n"
          ]
        }
      ]
    },
    {
      "cell_type": "code",
      "source": [
        "'''4 Write a Python function that takes a positive integer and returns the sum of\n",
        "the cube of all the positive integers smaller than the specified number.\n",
        "Sample input: 4 Sample output: 36.'''"
      ],
      "metadata": {
        "colab": {
          "base_uri": "https://localhost:8080/",
          "height": 53
        },
        "id": "oAZw83EQev-V",
        "outputId": "163f1c9c-61d5-4ad8-a7e1-0715c89ee860"
      },
      "execution_count": 58,
      "outputs": [
        {
          "output_type": "execute_result",
          "data": {
            "text/plain": [
              "'4 Write a Python function that takes a positive integer and returns the sum of\\nthe cube of all the positive integers smaller than the specified number.\\nSample input: 4 Sample output: 36.'"
            ],
            "application/vnd.google.colaboratory.intrinsic+json": {
              "type": "string"
            }
          },
          "metadata": {},
          "execution_count": 58
        }
      ]
    },
    {
      "cell_type": "code",
      "source": [
        "def cube(x):\n",
        "  sum=0\n",
        "  x**3\n",
        "\n",
        "\n",
        "\n",
        "n=int(input(\"enter a positive integer\"))\n",
        "print('output =',cube(n))"
      ],
      "metadata": {
        "colab": {
          "base_uri": "https://localhost:8080/"
        },
        "id": "GTW7rDJ5e6HS",
        "outputId": "32702f82-9f41-4cce-f4ab-c09519efa59d"
      },
      "execution_count": 99,
      "outputs": [
        {
          "output_type": "stream",
          "name": "stdout",
          "text": [
            "enter a positive integer4\n",
            "output = None\n"
          ]
        }
      ]
    },
    {
      "cell_type": "code",
      "source": [
        "'''3 Write a Python function called exponent(base,exp) that returns an integer\n",
        "value of base raises to the power of exp. Sample input: Enter the base: 2\n",
        "Enter the exponent: 3 Sample output: 8 '''"
      ],
      "metadata": {
        "colab": {
          "base_uri": "https://localhost:8080/",
          "height": 53
        },
        "id": "yhYpyQ2tm1w4",
        "outputId": "1219941d-d3d9-4b48-d73b-a5b4c7018035"
      },
      "execution_count": 81,
      "outputs": [
        {
          "output_type": "execute_result",
          "data": {
            "text/plain": [
              "'3 Write a Python function called exponent(base,exp) that returns an integer\\nvalue of base raises to the power of exp. Sample input: Enter the base: 2\\nEnter the exponent: 3 Sample output: 8 '"
            ],
            "application/vnd.google.colaboratory.intrinsic+json": {
              "type": "string"
            }
          },
          "metadata": {},
          "execution_count": 81
        }
      ]
    },
    {
      "cell_type": "code",
      "source": [
        "def exponent (base,exp):\n",
        "  integer=1\n",
        "  for i in range(exp):\n",
        "      integer*=base\n",
        "  return integer"
      ],
      "metadata": {
        "id": "-m-izrc8ZXV7"
      },
      "execution_count": 106,
      "outputs": []
    },
    {
      "cell_type": "code",
      "source": [
        "\n",
        "  base=int(input('enter the base'))\n",
        "  exp=int(input('enter the exponent '))\n",
        "  print(exponent(base,exp))"
      ],
      "metadata": {
        "colab": {
          "base_uri": "https://localhost:8080/"
        },
        "id": "ScGggdsxtHMr",
        "outputId": "2c81e382-90a9-4e1f-974c-32a045705768"
      },
      "execution_count": 108,
      "outputs": [
        {
          "output_type": "stream",
          "name": "stdout",
          "text": [
            "enter the base2\n",
            "enter the exponent 3\n",
            "8\n"
          ]
        }
      ]
    },
    {
      "cell_type": "code",
      "source": [
        "'''6 Write a Python function to find the most frequent item in a list of numbers.\n",
        "Sample input: 2, 3, 4, 2, 5, 2 Sample output: 2 '''"
      ],
      "metadata": {
        "colab": {
          "base_uri": "https://localhost:8080/",
          "height": 35
        },
        "id": "cGkRDyLotZ7J",
        "outputId": "3c7fa537-de06-485c-8f10-2392b8de6cfa"
      },
      "execution_count": 110,
      "outputs": [
        {
          "output_type": "execute_result",
          "data": {
            "text/plain": [
              "'6 Write a Python function to find the most frequent item in a list of numbers.\\nSample input: 2, 3, 4, 2, 5, 2 Sample output: 2 '"
            ],
            "application/vnd.google.colaboratory.intrinsic+json": {
              "type": "string"
            }
          },
          "metadata": {},
          "execution_count": 110
        }
      ]
    },
    {
      "cell_type": "code",
      "source": [
        "def fre_num(list1):\n",
        "\n",
        "    count_dict = dict()\n",
        "    for item in list1:\n",
        "        if item in count_dict:\n",
        "            count_dict[item] += 1\n",
        "        else:\n",
        "            count_dict[item] = 1\n",
        "    fre_num_item = None\n",
        "    highest_count = 0\n",
        "    for item, count in count_dict.items():\n",
        "        if count > highest_count:\n",
        "            fre_num_item = item\n",
        "            highest_count = count\n",
        "    return fre_num_item\n"
      ],
      "metadata": {
        "id": "dNwqTzfawPtA"
      },
      "execution_count": 131,
      "outputs": []
    },
    {
      "cell_type": "code",
      "source": [
        "list1 = [2, 3, 4, 2, 5, 2]\n",
        "fre_num_item = fre_num(list1)\n",
        "print(f\"The most fre item is: {fre_num_item}\")"
      ],
      "metadata": {
        "colab": {
          "base_uri": "https://localhost:8080/"
        },
        "id": "G32DM3_vxBSI",
        "outputId": "ffcb57d2-7b69-4be1-a94c-5f99724ed506"
      },
      "execution_count": 130,
      "outputs": [
        {
          "output_type": "stream",
          "name": "stdout",
          "text": [
            "The most fre item is: 2\n"
          ]
        }
      ]
    },
    {
      "cell_type": "code",
      "source": [
        "'''7 Write a Python function to find the sum of squares of the numbers in a list.\n",
        "Sample input: 2,1,3,1 Sample output: 15 '''"
      ],
      "metadata": {
        "colab": {
          "base_uri": "https://localhost:8080/",
          "height": 35
        },
        "id": "SfJWYHe8t365",
        "outputId": "1eed7514-e5d8-4961-8e7a-50a6d1229b5b"
      },
      "execution_count": 112,
      "outputs": [
        {
          "output_type": "execute_result",
          "data": {
            "text/plain": [
              "'7 Write a Python function to find the sum of squares of the numbers in a list.\\nSample input: 2,1,3,1 Sample output: 15 '"
            ],
            "application/vnd.google.colaboratory.intrinsic+json": {
              "type": "string"
            }
          },
          "metadata": {},
          "execution_count": 112
        }
      ]
    },
    {
      "cell_type": "code",
      "source": [
        "def sum_of_squr(numbers):\n",
        "  sum_of_squr = 0\n",
        "  for number in numbers:\n",
        "    sum_of_squr += number * number\n",
        "  return sum_of_squr\n",
        "numbers = [2,1,3,1]\n",
        "result = sum_of_squr(numbers)\n",
        "print(f\" the sum of squr of the numbers in  list is: {result}\")\n"
      ],
      "metadata": {
        "colab": {
          "base_uri": "https://localhost:8080/"
        },
        "id": "4udv957dnwpC",
        "outputId": "5eda4874-59bd-4be9-98e1-2634bab34ed8"
      },
      "execution_count": 143,
      "outputs": [
        {
          "output_type": "stream",
          "name": "stdout",
          "text": [
            " the sum of squr of the numbers in  list is: 15\n"
          ]
        }
      ]
    },
    {
      "cell_type": "code",
      "source": [
        "'''8 Write a Python program using for loop that will iterate from 1 to 15. For each\n",
        "iteration, check if the current number is odd or even, and display the message\n",
        "to the screen as odd or even. Sample input: 1….15 Sample output: 1-odd 2-\n",
        "even …. 15-odd '''"
      ],
      "metadata": {
        "colab": {
          "base_uri": "https://localhost:8080/",
          "height": 53
        },
        "id": "g1EyIcCYvr3x",
        "outputId": "57c21d66-4163-4bd2-f153-a20641d4847c"
      },
      "execution_count": 122,
      "outputs": [
        {
          "output_type": "execute_result",
          "data": {
            "text/plain": [
              "'8 Write a Python program using for loop that will iterate from 1 to 15. For each\\niteration, check if the current number is odd or even, and display the message\\nto the screen as odd or even. Sample input: 1….15 Sample output: 1-odd 2-\\neven …. 15-odd '"
            ],
            "application/vnd.google.colaboratory.intrinsic+json": {
              "type": "string"
            }
          },
          "metadata": {},
          "execution_count": 122
        }
      ]
    },
    {
      "cell_type": "code",
      "source": [
        "for i in range(1,16):\n",
        "  if i%2==0:\n",
        "    print(i,'even')\n",
        "  else:\n",
        "    print(i, 'odd')"
      ],
      "metadata": {
        "colab": {
          "base_uri": "https://localhost:8080/"
        },
        "id": "48zbSlusxRJS",
        "outputId": "d13b9517-b8d2-4276-ede2-414e6f6ebb8d"
      },
      "execution_count": 135,
      "outputs": [
        {
          "output_type": "stream",
          "name": "stdout",
          "text": [
            "1 odd\n",
            "2 even\n",
            "3 odd\n",
            "4 even\n",
            "5 odd\n",
            "6 even\n",
            "7 odd\n",
            "8 even\n",
            "9 odd\n",
            "10 even\n",
            "11 odd\n",
            "12 even\n",
            "13 odd\n",
            "14 even\n",
            "15 odd\n"
          ]
        }
      ]
    },
    {
      "cell_type": "code",
      "source": [
        "''' 9 Write a Python function to convert temperatures to and from Celsius\n",
        "Fahrenheit. [Formula: c/5=f-32/9 where c=temperature in Celsius and f=\n",
        "temperature in Fahrenheit.] Sample input: Temperature in Fahrenheit =41\n",
        "Sample output: Temperature in Celsius =5 '''"
      ],
      "metadata": {
        "colab": {
          "base_uri": "https://localhost:8080/",
          "height": 53
        },
        "id": "ulUWKsMZy3Ub",
        "outputId": "0b4febce-5d40-4515-be23-8e1d78032501"
      },
      "execution_count": 133,
      "outputs": [
        {
          "output_type": "execute_result",
          "data": {
            "text/plain": [
              "' 9 Write a Python function to convert temperatures to and from Celsius\\nFahrenheit. [Formula: c/5=f-32/9 where c=temperature in Celsius and f=\\ntemperature in Fahrenheit.] Sample input: Temperature in Fahrenheit =41\\nSample output: Temperature in Celsius =5 '"
            ],
            "application/vnd.google.colaboratory.intrinsic+json": {
              "type": "string"
            }
          },
          "metadata": {},
          "execution_count": 133
        }
      ]
    },
    {
      "cell_type": "code",
      "source": [
        "def floot(cel_far):\n",
        "   return (cel_far/5)\n",
        "    def floot(far_cel):\n",
        "       return (far_cel-(32/9))"
      ],
      "metadata": {
        "id": "YBOJy1BC2mnD",
        "colab": {
          "base_uri": "https://localhost:8080/",
          "height": 106
        },
        "outputId": "5985bb5a-e3dd-49cc-8965-5d3db7d7ece9"
      },
      "execution_count": 139,
      "outputs": [
        {
          "output_type": "error",
          "ename": "IndentationError",
          "evalue": "unexpected indent (<ipython-input-139-a9dff5778e9b>, line 3)",
          "traceback": [
            "\u001b[0;36m  File \u001b[0;32m\"<ipython-input-139-a9dff5778e9b>\"\u001b[0;36m, line \u001b[0;32m3\u001b[0m\n\u001b[0;31m    def floot(far_cel):\u001b[0m\n\u001b[0m    ^\u001b[0m\n\u001b[0;31mIndentationError\u001b[0m\u001b[0;31m:\u001b[0m unexpected indent\n"
          ]
        }
      ]
    },
    {
      "cell_type": "code",
      "source": [
        "'''10 Write a Python function to calculate the factorial of a number (a nonnegative\n",
        "integer). The function accepts the number as an argument. Sample input: 3\n",
        "Sample output: 6 '''"
      ],
      "metadata": {
        "colab": {
          "base_uri": "https://localhost:8080/",
          "height": 53
        },
        "id": "vedTDUsP1gGO",
        "outputId": "3cdf73ae-8045-4c5a-c6ff-ec193422bf3b"
      },
      "execution_count": 136,
      "outputs": [
        {
          "output_type": "execute_result",
          "data": {
            "text/plain": [
              "'Write a Python function to calculate the factorial of a number (a nonnegative\\ninteger). The function accepts the number as an argument. Sample input: 3\\nSample output: 6 '"
            ],
            "application/vnd.google.colaboratory.intrinsic+json": {
              "type": "string"
            }
          },
          "metadata": {},
          "execution_count": 136
        }
      ]
    },
    {
      "cell_type": "code",
      "source": [
        "import math\n",
        "number=int(input(\"Enter the number\"))\n",
        "def fat(n):\n",
        "  if n>1:\n",
        "    fat=math.factorial(n)\n",
        "    return fat\n",
        "  else:\n",
        "    return(\"invalead input\")\n",
        "\n",
        "print(fat(number))"
      ],
      "metadata": {
        "colab": {
          "base_uri": "https://localhost:8080/"
        },
        "id": "2780iUOa1mI-",
        "outputId": "97bd8d3a-12e1-4502-cbf4-2407dcc82e1e"
      },
      "execution_count": 142,
      "outputs": [
        {
          "output_type": "stream",
          "name": "stdout",
          "text": [
            "Enter the number4\n",
            "24\n"
          ]
        }
      ]
    },
    {
      "cell_type": "code",
      "source": [
        "'''11.Case Study: Grade Calculator\n",
        "In this case study, you have to create a program that calculates the final\n",
        "grade for a student based on their scores in different assessments. The\n",
        "program will take input from the user, perform calculations, and display the\n",
        "final grade along with additional information.\n",
        "Requirements:\n",
        "1. The program should prompt the user to enter the following information:\n",
        "• Student's name\n",
        "• Number of assessments (e.g., assignments, quizzes, exams)\n",
        "• Weight (percentage) of each assessment type\n",
        "2. For each assessment type, the program should ask the user to enter:\n",
        "• Number of assessments of that type\n",
        "• Score obtained for each assessment.\n",
        "3. The program should calculate the weighted average score for each\n",
        "assessment type.\n",
        "4. The program should then calculate the final grade using the weighted\n",
        "average scores and the weights provided by the user.\n",
        "5. The program should display the following information:\n",
        "• Student's name\n",
        "• Weighted average score for each assessment type\n",
        "• Final grade\n",
        "• Letter grade based on a grading scale (e.g., A, B, C, D, F)\n",
        "6. The program should have a function to determine the letter grade based\n",
        "on the final grade.'''"
      ],
      "metadata": {
        "id": "XTGNbAYe4bI8"
      },
      "execution_count": null,
      "outputs": []
    },
    {
      "cell_type": "code",
      "source": [],
      "metadata": {
        "id": "pZ3JMedf4zRK"
      },
      "execution_count": null,
      "outputs": []
    }
  ]
}